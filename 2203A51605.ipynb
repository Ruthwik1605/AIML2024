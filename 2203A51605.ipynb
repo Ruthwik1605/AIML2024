{
  "nbformat": 4,
  "nbformat_minor": 0,
  "metadata": {
    "colab": {
      "provenance": []
    },
    "kernelspec": {
      "name": "python3",
      "display_name": "Python 3"
    },
    "language_info": {
      "name": "python"
    }
  },
  "cells": [
    {
      "cell_type": "code",
      "source": [
        "def min_max(node, depth, maximizing_player):\n",
        "    if depth == 0 or node in terminal_nodes:\n",
        "        return node\n",
        "\n",
        "    if maximizing_player:\n",
        "        max_value = float(\"-inf\")\n",
        "        for child in children[node]:\n",
        "            value = min_max(child, depth - 1, False)\n",
        "            max_value = max(max_value, value)\n",
        "        return max_value\n",
        "    else:\n",
        "        min_value = float(\"inf\")\n",
        "        for child in children[node]:\n",
        "            value = min_max(child, depth - 1, True)\n",
        "            min_value = min(min_value, value)\n",
        "        return min_value\n",
        "\n",
        "# Define terminal nodes and their values\n",
        "terminal_nodes = {'H': -1, 'I': 4, 'J': 2, 'K': 6, 'L': -3, 'M': -5, 'N': 0, 'O': 7}\n",
        "\n",
        "# Define children for each node\n",
        "children = {\n",
        "    'A': ['B', 'C'],\n",
        "    'B': ['D', 'E'],\n",
        "    'C': ['F', 'G'],\n",
        "    'D': [-1, 4],\n",
        "    'E': [2, 6],\n",
        "    'F': [-3, -5],\n",
        "    'G': [0, 7]\n",
        "}\n",
        "\n",
        "# Perform Min-Max algorithm\n",
        "result = min_max('A', 3, True)  # You can adjust the depth as needed\n",
        "print(\"The optimal value for the root node A is:\", result)"
      ],
      "metadata": {
        "colab": {
          "base_uri": "https://localhost:8080/"
        },
        "id": "IPNnlyLj8dqe",
        "outputId": "74da8588-4600-4d3c-f284-e6e89d96b1b4"
      },
      "execution_count": 6,
      "outputs": [
        {
          "output_type": "stream",
          "name": "stdout",
          "text": [
            "The optimal value for the root node A is: 4\n"
          ]
        }
      ]
    },
    {
      "cell_type": "code",
      "source": [
        "def alpha_beta_pruning(node, depth, alpha, beta, maximizingPlayer):\n",
        "    if depth == 0 or node in ['H', 'I', 'J', 'K', 'L', 'M', 'N', 'O']:\n",
        "        terminal_values = {'H': -1, 'I': 4, 'J': 2, 'K': 6,\n",
        "                           'L': -3, 'M': -5 , 'N': 0 , 'O': 7}\n",
        "        return terminal_values[node]\n",
        "\n",
        "    if maximizingPlayer:\n",
        "        maxEval = float('-inf')\n",
        "        for child in tree[node]:\n",
        "            eval = alpha_beta_pruning(child, depth - 1, alpha, beta, False)\n",
        "            maxEval = max(maxEval, eval)\n",
        "            alpha = max(alpha, eval)\n",
        "            if beta <= alpha:\n",
        "                break\n",
        "        return maxEval\n",
        "\n",
        "    else:\n",
        "        minEval = float('inf')\n",
        "        for child in tree[node]:\n",
        "            eval = alpha_beta_pruning(child, depth - 1,alpha,beta,True)\n",
        "            minEval = min(minEval ,eval)\n",
        "            beta= min(beta ,eval)\n",
        "            if beta <=alpha :\n",
        "                break\n",
        "        return minEval\n",
        "\n",
        "tree ={\n",
        "    \"A\":[\"B\",\"C\"],\n",
        "    \"B\":[\"D\",\"E\"],\n",
        "    \"C\":[\"F\",\"G\"],\n",
        "    \"D\":[\"H\",\"I\"],\n",
        "    \"E\":[\"J\",\"K\"],\n",
        "    \"F\":[\"L\",\"M\"],\n",
        "    \"G\":[\"N\",\"O\"]\n",
        "}\n",
        "\n",
        "result=alpha_beta_pruning(\"A\",3,float('-inf'),float('inf'),True )\n",
        "print(f\"The optimal value is : {result}\")"
      ],
      "metadata": {
        "colab": {
          "base_uri": "https://localhost:8080/"
        },
        "id": "S2BK4gJwCAMl",
        "outputId": "ced9d4e5-18b2-4634-8607-7c356cf1c51a"
      },
      "execution_count": 8,
      "outputs": [
        {
          "output_type": "stream",
          "name": "stdout",
          "text": [
            "The optimal value is : 4\n"
          ]
        }
      ]
    }
  ]
}